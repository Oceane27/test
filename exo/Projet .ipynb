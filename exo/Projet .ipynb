{
 "cells": [
  {
   "cell_type": "code",
   "execution_count": 2,
   "metadata": {
    "scrolled": false
   },
   "outputs": [],
   "source": [
    "%matplotlib inline\n",
    "import matplotlib.pyplot as plt\n",
    "import numpy as np\n",
    "import pandas as pd\n",
    "import seaborn as sns\n",
    "\n",
    "df=pd.read_csv('events.csv')\n",
    "\n",
    "from datetime import datetime\n",
    "\n",
    "df.head(10)\n",
    "\n",
    "#print(df.timestamp)\n",
    "\n",
    "from datetime import timedelta\n",
    "\n",
    "#test=1433224214164\n",
    "#test1=timedelta(milliseconds=test)\n",
    "#print(test1)\n",
    "\n",
    "df['new']=df['timestamp'].apply(lambda x : datetime.fromtimestamp(x/1000))"
   ]
  },
  {
   "cell_type": "code",
   "execution_count": 18,
   "metadata": {},
   "outputs": [
    {
     "data": {
      "text/html": [
       "<div>\n",
       "<style scoped>\n",
       "    .dataframe tbody tr th:only-of-type {\n",
       "        vertical-align: middle;\n",
       "    }\n",
       "\n",
       "    .dataframe tbody tr th {\n",
       "        vertical-align: top;\n",
       "    }\n",
       "\n",
       "    .dataframe thead th {\n",
       "        text-align: right;\n",
       "    }\n",
       "</style>\n",
       "<table border=\"1\" class=\"dataframe\">\n",
       "  <thead>\n",
       "    <tr style=\"text-align: right;\">\n",
       "      <th></th>\n",
       "      <th>timestamp</th>\n",
       "      <th>visitorid</th>\n",
       "      <th>event</th>\n",
       "      <th>itemid</th>\n",
       "      <th>transactionid</th>\n",
       "      <th>new</th>\n",
       "      <th>year</th>\n",
       "      <th>month</th>\n",
       "      <th>new_event</th>\n",
       "      <th>date</th>\n",
       "      <th>day</th>\n",
       "      <th>hour</th>\n",
       "    </tr>\n",
       "  </thead>\n",
       "  <tbody>\n",
       "    <tr>\n",
       "      <th>0</th>\n",
       "      <td>1433221332117</td>\n",
       "      <td>257597</td>\n",
       "      <td>view</td>\n",
       "      <td>355908</td>\n",
       "      <td>NaN</td>\n",
       "      <td>2015-06-02 06:02:12.117</td>\n",
       "      <td>2015</td>\n",
       "      <td>6</td>\n",
       "      <td>1</td>\n",
       "      <td>6-2015</td>\n",
       "      <td>2</td>\n",
       "      <td>6</td>\n",
       "    </tr>\n",
       "    <tr>\n",
       "      <th>1</th>\n",
       "      <td>1433224214164</td>\n",
       "      <td>992329</td>\n",
       "      <td>view</td>\n",
       "      <td>248676</td>\n",
       "      <td>NaN</td>\n",
       "      <td>2015-06-02 06:50:14.164</td>\n",
       "      <td>2015</td>\n",
       "      <td>6</td>\n",
       "      <td>1</td>\n",
       "      <td>6-2015</td>\n",
       "      <td>2</td>\n",
       "      <td>6</td>\n",
       "    </tr>\n",
       "    <tr>\n",
       "      <th>2</th>\n",
       "      <td>1433221999827</td>\n",
       "      <td>111016</td>\n",
       "      <td>view</td>\n",
       "      <td>318965</td>\n",
       "      <td>NaN</td>\n",
       "      <td>2015-06-02 06:13:19.827</td>\n",
       "      <td>2015</td>\n",
       "      <td>6</td>\n",
       "      <td>1</td>\n",
       "      <td>6-2015</td>\n",
       "      <td>2</td>\n",
       "      <td>6</td>\n",
       "    </tr>\n",
       "    <tr>\n",
       "      <th>3</th>\n",
       "      <td>1433221955914</td>\n",
       "      <td>483717</td>\n",
       "      <td>view</td>\n",
       "      <td>253185</td>\n",
       "      <td>NaN</td>\n",
       "      <td>2015-06-02 06:12:35.914</td>\n",
       "      <td>2015</td>\n",
       "      <td>6</td>\n",
       "      <td>1</td>\n",
       "      <td>6-2015</td>\n",
       "      <td>2</td>\n",
       "      <td>6</td>\n",
       "    </tr>\n",
       "    <tr>\n",
       "      <th>4</th>\n",
       "      <td>1433221337106</td>\n",
       "      <td>951259</td>\n",
       "      <td>view</td>\n",
       "      <td>367447</td>\n",
       "      <td>NaN</td>\n",
       "      <td>2015-06-02 06:02:17.106</td>\n",
       "      <td>2015</td>\n",
       "      <td>6</td>\n",
       "      <td>1</td>\n",
       "      <td>6-2015</td>\n",
       "      <td>2</td>\n",
       "      <td>6</td>\n",
       "    </tr>\n",
       "    <tr>\n",
       "      <th>...</th>\n",
       "      <td>...</td>\n",
       "      <td>...</td>\n",
       "      <td>...</td>\n",
       "      <td>...</td>\n",
       "      <td>...</td>\n",
       "      <td>...</td>\n",
       "      <td>...</td>\n",
       "      <td>...</td>\n",
       "      <td>...</td>\n",
       "      <td>...</td>\n",
       "      <td>...</td>\n",
       "      <td>...</td>\n",
       "    </tr>\n",
       "    <tr>\n",
       "      <th>2756096</th>\n",
       "      <td>1438398785939</td>\n",
       "      <td>591435</td>\n",
       "      <td>view</td>\n",
       "      <td>261427</td>\n",
       "      <td>NaN</td>\n",
       "      <td>2015-08-01 04:13:05.939</td>\n",
       "      <td>2015</td>\n",
       "      <td>8</td>\n",
       "      <td>1</td>\n",
       "      <td>8-2015</td>\n",
       "      <td>1</td>\n",
       "      <td>4</td>\n",
       "    </tr>\n",
       "    <tr>\n",
       "      <th>2756097</th>\n",
       "      <td>1438399813142</td>\n",
       "      <td>762376</td>\n",
       "      <td>view</td>\n",
       "      <td>115946</td>\n",
       "      <td>NaN</td>\n",
       "      <td>2015-08-01 04:30:13.142</td>\n",
       "      <td>2015</td>\n",
       "      <td>8</td>\n",
       "      <td>1</td>\n",
       "      <td>8-2015</td>\n",
       "      <td>1</td>\n",
       "      <td>4</td>\n",
       "    </tr>\n",
       "    <tr>\n",
       "      <th>2756098</th>\n",
       "      <td>1438397820527</td>\n",
       "      <td>1251746</td>\n",
       "      <td>view</td>\n",
       "      <td>78144</td>\n",
       "      <td>NaN</td>\n",
       "      <td>2015-08-01 03:57:00.527</td>\n",
       "      <td>2015</td>\n",
       "      <td>8</td>\n",
       "      <td>1</td>\n",
       "      <td>8-2015</td>\n",
       "      <td>1</td>\n",
       "      <td>3</td>\n",
       "    </tr>\n",
       "    <tr>\n",
       "      <th>2756099</th>\n",
       "      <td>1438398530703</td>\n",
       "      <td>1184451</td>\n",
       "      <td>view</td>\n",
       "      <td>283392</td>\n",
       "      <td>NaN</td>\n",
       "      <td>2015-08-01 04:08:50.703</td>\n",
       "      <td>2015</td>\n",
       "      <td>8</td>\n",
       "      <td>1</td>\n",
       "      <td>8-2015</td>\n",
       "      <td>1</td>\n",
       "      <td>4</td>\n",
       "    </tr>\n",
       "    <tr>\n",
       "      <th>2756100</th>\n",
       "      <td>1438400163914</td>\n",
       "      <td>199536</td>\n",
       "      <td>view</td>\n",
       "      <td>152913</td>\n",
       "      <td>NaN</td>\n",
       "      <td>2015-08-01 04:36:03.914</td>\n",
       "      <td>2015</td>\n",
       "      <td>8</td>\n",
       "      <td>1</td>\n",
       "      <td>8-2015</td>\n",
       "      <td>1</td>\n",
       "      <td>4</td>\n",
       "    </tr>\n",
       "  </tbody>\n",
       "</table>\n",
       "<p>2756101 rows × 12 columns</p>\n",
       "</div>"
      ],
      "text/plain": [
       "             timestamp  visitorid event  itemid  transactionid  \\\n",
       "0        1433221332117     257597  view  355908            NaN   \n",
       "1        1433224214164     992329  view  248676            NaN   \n",
       "2        1433221999827     111016  view  318965            NaN   \n",
       "3        1433221955914     483717  view  253185            NaN   \n",
       "4        1433221337106     951259  view  367447            NaN   \n",
       "...                ...        ...   ...     ...            ...   \n",
       "2756096  1438398785939     591435  view  261427            NaN   \n",
       "2756097  1438399813142     762376  view  115946            NaN   \n",
       "2756098  1438397820527    1251746  view   78144            NaN   \n",
       "2756099  1438398530703    1184451  view  283392            NaN   \n",
       "2756100  1438400163914     199536  view  152913            NaN   \n",
       "\n",
       "                            new  year  month  new_event    date  day  hour  \n",
       "0       2015-06-02 06:02:12.117  2015      6          1  6-2015    2     6  \n",
       "1       2015-06-02 06:50:14.164  2015      6          1  6-2015    2     6  \n",
       "2       2015-06-02 06:13:19.827  2015      6          1  6-2015    2     6  \n",
       "3       2015-06-02 06:12:35.914  2015      6          1  6-2015    2     6  \n",
       "4       2015-06-02 06:02:17.106  2015      6          1  6-2015    2     6  \n",
       "...                         ...   ...    ...        ...     ...  ...   ...  \n",
       "2756096 2015-08-01 04:13:05.939  2015      8          1  8-2015    1     4  \n",
       "2756097 2015-08-01 04:30:13.142  2015      8          1  8-2015    1     4  \n",
       "2756098 2015-08-01 03:57:00.527  2015      8          1  8-2015    1     3  \n",
       "2756099 2015-08-01 04:08:50.703  2015      8          1  8-2015    1     4  \n",
       "2756100 2015-08-01 04:36:03.914  2015      8          1  8-2015    1     4  \n",
       "\n",
       "[2756101 rows x 12 columns]"
      ]
     },
     "execution_count": 18,
     "metadata": {},
     "output_type": "execute_result"
    }
   ],
   "source": [
    "df"
   ]
  },
  {
   "cell_type": "code",
   "execution_count": 15,
   "metadata": {},
   "outputs": [],
   "source": [
    "# ici j'ai créé pour chaque colonne l'heure, le jour, le mois, l'année\n",
    "\n",
    "df['year']=pd.to_datetime(df.new).dt.year\n",
    "df['month']=pd.to_datetime(df.new).dt.month\n",
    "df['day']=pd.to_datetime(df.new).dt.day\n",
    "df['hour']=pd.to_datetime(df.new).dt.hour"
   ]
  },
  {
   "cell_type": "code",
   "execution_count": 4,
   "metadata": {},
   "outputs": [],
   "source": [
    "df['new_event']=df['event'].replace(['view','addtocart','transaction'], value=[1,2,3])"
   ]
  },
  {
   "cell_type": "code",
   "execution_count": 19,
   "metadata": {},
   "outputs": [],
   "source": [
    "df['date']=df[['day','month','year']].sort_values(by=['day','month','year']).astype(str).agg('-'.join, axis=1)"
   ]
  },
  {
   "cell_type": "code",
   "execution_count": 20,
   "metadata": {},
   "outputs": [
    {
     "data": {
      "text/plain": [
       "0          2-6-2015\n",
       "1          2-6-2015\n",
       "2          2-6-2015\n",
       "3          2-6-2015\n",
       "4          2-6-2015\n",
       "             ...   \n",
       "2756096    1-8-2015\n",
       "2756097    1-8-2015\n",
       "2756098    1-8-2015\n",
       "2756099    1-8-2015\n",
       "2756100    1-8-2015\n",
       "Name: date, Length: 2756101, dtype: object"
      ]
     },
     "execution_count": 20,
     "metadata": {},
     "output_type": "execute_result"
    }
   ],
   "source": [
    "df['date']"
   ]
  },
  {
   "cell_type": "code",
   "execution_count": 7,
   "metadata": {},
   "outputs": [
    {
     "data": {
      "image/png": "[encoded data removed]",
      "text/plain": [
       "<Figure size 432x288 with 1 Axes>"
      ]
     },
     "metadata": {
      "needs_background": "light"
     },
     "output_type": "display_data"
    }
   ],
   "source": [
    "sns.countplot(x='month', hue='event', data=df);\n",
    "\n",
    "\n"
   ]
  },
  {
   "cell_type": "code",
   "execution_count": 8,
   "metadata": {},
   "outputs": [
    {
     "name": "stdout",
     "output_type": "stream",
     "text": [
      "         event  visitorid\n",
      "0    addtocart      69332\n",
      "1  transaction      22457\n",
      "2         view    2664312\n"
     ]
    }
   ],
   "source": [
    "nb_visit=df.groupby(by='event', as_index=False).agg({'visitorid' : 'count'})\n",
    "print(nb_visit)"
   ]
  },
  {
   "cell_type": "code",
   "execution_count": 9,
   "metadata": {},
   "outputs": [
    {
     "name": "stdout",
     "output_type": "stream",
     "text": [
      "22457\n",
      "   month  transactionid\n",
      "0      5           4602\n",
      "1      6           5041\n",
      "2      7           5806\n",
      "3      8           4630\n",
      "4      9           2378\n"
     ]
    }
   ],
   "source": [
    "verif=df['transactionid'].count()\n",
    "print(verif)\n",
    "\n",
    "transac_month=df.groupby(by='month', as_index=False).agg({'transactionid':'count'})\n",
    "print(transac_month)\n",
    "\n",
    "# on remarque c'est en juillet qu'il y a le plus de transaction et aussi le plus de vie"
   ]
  },
  {
   "cell_type": "code",
   "execution_count": null,
   "metadata": {},
   "outputs": [],
   "source": []
  }
 ],
 "metadata": {
  "kernelspec": {
   "display_name": "Python 3",
   "language": "python",
   "name": "python3"
  },
  "language_info": {
   "codemirror_mode": {
    "name": "ipython",
    "version": 3
   },
   "file_extension": ".py",
   "mimetype": "text/x-python",
   "name": "python",
   "nbconvert_exporter": "python",
   "pygments_lexer": "ipython3",
   "version": "3.8.5"
  }
 },
 "nbformat": 4,
 "nbformat_minor": 4
}
